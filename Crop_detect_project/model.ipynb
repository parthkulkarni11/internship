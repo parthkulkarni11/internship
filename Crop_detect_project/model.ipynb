{
 "cells": [
  {
   "cell_type": "code",
   "execution_count": 7,
   "id": "7700c3b3",
   "metadata": {},
   "outputs": [
    {
     "name": "stdout",
     "output_type": "stream",
     "text": [
      "Model Accuracy: 0.0\n"
     ]
    },
    {
     "name": "stderr",
     "output_type": "stream",
     "text": [
      "C:\\Users\\parth\\AppData\\Roaming\\Python\\Python311\\site-packages\\sklearn\\utils\\multiclass.py:213: UserWarning: The number of unique classes is greater than 50% of the number of samples.\n",
      "  y_type = type_of_target(y, input_name=\"y\")\n"
     ]
    },
    {
     "data": {
      "text/plain": [
       "['disease_encoder.pkl']"
      ]
     },
     "execution_count": 7,
     "metadata": {},
     "output_type": "execute_result"
    },
    {
     "name": "stdout",
     "output_type": "stream",
     "text": [
      "ERROR! Session/line number was not unique in database. History logging moved to new session 90\n"
     ]
    }
   ],
   "source": [
    "# Step 1: Import Libraries\n",
    "import pandas as pd\n",
    "from sklearn.preprocessing import LabelEncoder\n",
    "from sklearn.model_selection import train_test_split\n",
    "from sklearn.tree import DecisionTreeClassifier\n",
    "from sklearn.metrics import accuracy_score\n",
    "import joblib\n",
    "\n",
    "# Step 2: Load Data\n",
    "data = pd.read_csv(\"crops.csv\")  # Make sure this matches your file name\n",
    "\n",
    "# Step 3: Encode categorical features\n",
    "le_crop = LabelEncoder()\n",
    "le_soil = LabelEncoder()\n",
    "le_disease = LabelEncoder()\n",
    "\n",
    "data['crop_enc'] = le_crop.fit_transform(data['crop'])\n",
    "data['soil_enc'] = le_soil.fit_transform(data['soil_type'])\n",
    "data['disease_enc'] = le_disease.fit_transform(data['disease'])\n",
    "\n",
    "# Step 4: Prepare features and labels\n",
    "X = data[['crop_enc', 'soil_enc']]\n",
    "y = data['disease_enc']\n",
    "\n",
    "# Step 5: Train/Test Split\n",
    "X_train, X_test, y_train, y_test = train_test_split(X, y, test_size=0.2, random_state=42)\n",
    "\n",
    "# Step 6: Train the model\n",
    "model = DecisionTreeClassifier()\n",
    "model.fit(X_train, y_train)\n",
    "\n",
    "# Step 7: Evaluate the model\n",
    "y_pred = model.predict(X_test)\n",
    "accuracy = accuracy_score(y_test, y_pred)\n",
    "print(\"Model Accuracy:\", accuracy)\n",
    "\n",
    "# Step 8: Save model and encoders\n",
    "joblib.dump(model, 'disease_model.pkl')\n",
    "joblib.dump(le_crop, 'crop_encoder.pkl')\n",
    "joblib.dump(le_soil, 'soil_encoder.pkl')\n",
    "joblib.dump(le_disease, 'disease_encoder.pkl')\n"
   ]
  }
 ],
 "metadata": {
  "kernelspec": {
   "display_name": "Python 3",
   "language": "python",
   "name": "python3"
  },
  "language_info": {
   "codemirror_mode": {
    "name": "ipython",
    "version": 3
   },
   "file_extension": ".py",
   "mimetype": "text/x-python",
   "name": "python",
   "nbconvert_exporter": "python",
   "pygments_lexer": "ipython3",
   "version": "3.11.5"
  }
 },
 "nbformat": 4,
 "nbformat_minor": 5
}

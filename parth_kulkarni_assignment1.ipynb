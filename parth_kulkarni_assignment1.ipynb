{
 "cells": [
  {
   "cell_type": "markdown",
   "id": "ed30fc10",
   "metadata": {},
   "source": [
    "#Q1.class is a blueprint or template for creating objects.Defines the attributes (data) and methods (functions) that the objects will have.\n",
    "Object:A specific instance created from a class\n",
    "Relationship between class and object\n",
    "A class defines the structure, and objects are created based on that structure.\n",
    "\n",
    "You can create multiple objects (instances) from a single class.#"
   ]
  },
  {
   "cell_type": "code",
   "execution_count": null,
   "id": "1ed7dae3",
   "metadata": {},
   "outputs": [],
   "source": [
    "class Book:\n",
    "    def __init__(self,title,author,year):\n",
    "        self.title=title\n",
    "        self.author=author\n",
    "        self.year=year\n",
    "    def disp(self):\n",
    "        print(\"title\" ,self.title)\n",
    "        print(\"author\" ,self.author)\n",
    "        print(\"year\" ,self.year)\n",
    "x=Book(\"abc\",\"A\",2003)\n",
    "print(x.title)\n",
    "print(x.author)\n",
    "print(x.year)\n",
    "\n",
    "\n"
   ]
  },
  {
   "cell_type": "markdown",
   "id": "01aeb3af",
   "metadata": {},
   "source": [
    "Q.2Inheritance in Python allows child classes (like Car or Bike) to reuse and extend functionality from a parent class (like Vehicle), promoting code reuse and polymorphism. Key benefits include avoiding code duplication and enabling method overriding for specialized behavior. However, pitfalls include over-complication from deep inheritance chains, tight coupling between classes, and misuse when inheritance is forced"
   ]
  },
  {
   "cell_type": "code",
   "execution_count": null,
   "id": "98acf115",
   "metadata": {},
   "outputs": [],
   "source": [
    "class Vehicle:\n",
    "    def move(self):\n",
    "        print(\"moving vehicle\")\n",
    "class Car(Vehicle):\n",
    "    def move(self):\n",
    "        print(\"car\")\n",
    "class Bike(Vehicle):\n",
    "    def move(self):\n",
    "        print(\"bike\")\n",
    "x=Vehicle()\n",
    "y=Car()\n",
    "z=Bike()\n",
    "x.move()\n",
    "y.move()\n",
    "z.move()"
   ]
  },
  {
   "cell_type": "markdown",
   "id": "2265a53e",
   "metadata": {},
   "source": [
    "in Polymorphism allows objects of different classes to be treated as objects of a common superclass, enabling flexible and reusable code.\n",
    "Implementation in Python\n",
    "Method Overriding (Runtime Polymorphism)\n",
    "A child class redefines a method inherited from a parent class.\n",
    "Example: Boat and Airplane override move() differently.\n",
    "Method Overloading (Not natively supported)\n",
    "Python doesn’t support traditional method overloading (same method name, different parameters)."
   ]
  },
  {
   "cell_type": "code",
   "execution_count": null,
   "id": "f8965a28",
   "metadata": {},
   "outputs": [],
   "source": [
    "#q.3\n",
    "class Vehicle:\n",
    "    def move(self):\n",
    "        print(\"Generic vehicle moving...\")\n",
    "\n",
    "class Boat(Vehicle):\n",
    "    def move(self):  \n",
    "        print(\"Boat sailing on water.\")\n",
    "\n",
    "class Airplane(Vehicle):\n",
    "    def move(self):  \n",
    "        print(\"Airplane flying in the sky.\")\n",
    "\n",
    "def move_vehicle(vehicle_obj):  \n",
    "    vehicle_obj.move()\n",
    "\n",
    "# Usage\n",
    "boat = Boat()\n",
    "airplane = Airplane()\n",
    "\n",
    "move_vehicle(boat)      \n",
    "move_vehicle(airplane)\n"
   ]
  },
  {
   "cell_type": "markdown",
   "id": "c1fafc81",
   "metadata": {},
   "source": [
    "Q.4Instance Methods are the default type and take self as their first parameter, allowing them to access and modify instance-specific data.\n",
    "Class Methods (marked with @classmethod) take cls (the class itself) as their first parameter, making them ideal for factory methods or operations that involve the class but not a specific instance.\n",
    "Static Methods (marked with @staticmethod) do not take self or cls and behave like standalone functions, often used for utility operations that logically belong to the class but don’t depend on instance or class state.\n"
   ]
  },
  {
   "cell_type": "code",
   "execution_count": null,
   "id": "9b8ca23e",
   "metadata": {},
   "outputs": [],
   "source": [
    "class Calculator:\n",
    " \n",
    "    def multiply(a, b):\n",
    "        return a * b\n",
    "    \n",
    "    @classmethod\n",
    "    def from_values(cls, values):\n",
    "        return cls.multiply(values[0], values[1])\n",
    "\n",
    "x = Calculator()\n",
    "print(x.multiply(3, 4))  \n",
    "print(x.from_values([5, 4]))  "
   ]
  },
  {
   "cell_type": "markdown",
   "id": "64f8746e",
   "metadata": {},
   "source": [
    "Q.5Encapsulation is an OOP principle that bundles data (attributes) and methods that operate on that data within a single unit (class), while restricting direct access to some components from outside the class. This protects an object's internal state and prevents unintended modifications.\n",
    "Public: No prefix (e.g., name) — accessible anywhere.\n",
    "Protected: Single underscore prefix —signals \"internal use\" (not enforced).\n",
    "Private: Double underscore prefix  triggers name mangling to prevent accidental access (though still accessible with _ClassName__attribute).\n"
   ]
  },
  {
   "cell_type": "code",
   "execution_count": null,
   "id": "ee9d1da6",
   "metadata": {},
   "outputs": [],
   "source": [
    "#q.5\n",
    "class Person:\n",
    "    def __init__(self,name,age):\n",
    "        self.__name=name\n",
    "        self.__age=age\n",
    "    def getnm(self):\n",
    "        return self.__name\n",
    "    def getag(self):\n",
    "        return self.__age\n",
    "    def setnm(self,name):\n",
    "        self.__name=name\n",
    "    def setag(self,age):\n",
    "        self.__age=age\n",
    "x=Person(\"abc\",19)\n",
    "print(x.getnm())\n",
    "x.setag(20)\n"
   ]
  },
  {
   "cell_type": "markdown",
   "id": "c3373428",
   "metadata": {},
   "source": [
    "Q.6The __init__ method in Python serves as the constructor for a class, automatically executing when an object is instantiated. Its primary purpose is to initialize the object's attributes and set up its initial state by accepting parameters (like name and price for a Product class). Unlike regular methods, which are called explicitly and can return values, __init__ is invoked implicitly during object creation and must return None."
   ]
  },
  {
   "cell_type": "code",
   "execution_count": null,
   "id": "49bbbc75",
   "metadata": {},
   "outputs": [],
   "source": [
    "#q.6\n",
    "class Product:\n",
    "    def __init__(self,name,price):\n",
    "        self.name=name\n",
    "        self.price=price\n",
    "    def disp(self):\n",
    "        print(f\"Product: {self.name}, Price: ${self.price:}\")\n",
    "p=Product(\"laptop\",120000)\n",
    "p.disp()"
   ]
  },
  {
   "cell_type": "markdown",
   "id": "b1ba5756",
   "metadata": {},
   "source": [
    "Q.7\n",
    "Python implements multiple inheritance by allowing a class to inherit from multiple parent classes. When a method is called, Python uses the Method Resolution Order (MRO) to determine which parent class's method to execute. The MRO follows the C3 linearization algorithm, to resolve conflicts (e.g., when both parents define the same method), MRO prioritizes the leftmost parent first. The super() function leverages MRO to call the next method in the inheritance chain, ensuring cooperative inheritance."
   ]
  },
  {
   "cell_type": "code",
   "execution_count": 17,
   "id": "7ecd5d15",
   "metadata": {},
   "outputs": [
    {
     "name": "stdout",
     "output_type": "stream",
     "text": [
      "appliance\n",
      "fridge\n"
     ]
    }
   ],
   "source": [
    "#q.7\n",
    "class Appliance:\n",
    "    def operate(self):\n",
    "        print(\"appliance\")\n",
    "class Electronic:\n",
    "    def operate(self):\n",
    "        print(\"electronic\")\n",
    "class Smartfridge(Appliance,Electronic):\n",
    "    def operate(self):\n",
    "        super().operate()\n",
    "        print(\"fridge\")\n",
    "f=Smartfridge()\n",
    "f.operate()"
   ]
  },
  {
   "cell_type": "markdown",
   "id": "19da5b65",
   "metadata": {},
   "source": [
    "Q.8Special methods (or magic methods) are predefined methods in Python that start and end with double underscores (e.g., __init__, __eq__, __lt__). They allow you to customize class behavior for built-in operations\n"
   ]
  },
  {
   "cell_type": "code",
   "execution_count": 18,
   "id": "81ed6071",
   "metadata": {},
   "outputs": [
    {
     "name": "stdout",
     "output_type": "stream",
     "text": [
      "False\n",
      "False\n",
      "True\n"
     ]
    }
   ],
   "source": [
    "class Book:\n",
    "    def __init__(self, title, year_published):\n",
    "        self.title = title\n",
    "        self.year_published = year_published\n",
    "    def __eq__(self, other):\n",
    "        return self.year_published == other.year_published\n",
    "    def __lt__(self, other):\n",
    "        return self.year_published < other.year_published\n",
    "book1 = Book(\"1984\", 1949)\n",
    "book2 = Book(\"Brave New World\", 1932)\n",
    "\n",
    "print(book1 == book2)  \n",
    "print(book1 < book2)   \n",
    "print(book2 < book1)   "
   ]
  },
  {
   "cell_type": "markdown",
   "id": "bdbf312e",
   "metadata": {},
   "source": [
    "Q.9In (OOP), inheritance creates an \"is-a\" relationship (e.g., a Truck is a type of Vehicle), while composition creates a \"has-a\" relationship (e.g., a Truck has an Engine). Inheritance is best for hierarchical relationships where child classes extend parent behavior, but it can lead to rigid, tightly coupled designs. Composition, on the other hand, embeds objects as attributes, promoting flexibility and modularity\n"
   ]
  },
  {
   "cell_type": "code",
   "execution_count": 19,
   "id": "3ea4460e",
   "metadata": {},
   "outputs": [
    {
     "name": "stdout",
     "output_type": "stream",
     "text": [
      "engine\n"
     ]
    }
   ],
   "source": [
    "#q.9\n",
    "class Engine:\n",
    "    def start(self):\n",
    "        print(\"engine\")\n",
    "class Truck:\n",
    "    def __init__(self):\n",
    "        self.engine=Engine()\n",
    "    def start(self):\n",
    "        self.engine.start()\n",
    "t=Truck()\n",
    "t.start()"
   ]
  },
  {
   "cell_type": "markdown",
   "id": "f3a4653c",
   "metadata": {},
   "source": [
    "Q.10 The @property decorator in Python allows you to define methods that act like attributes, enabling controlled access to class data while maintaining encapsulation. . By using @property, you can:\n",
    "Compute values dynamically \n",
    "Validate or restrict attribute modifications \n",
    "Hide internal implementation details"
   ]
  },
  {
   "cell_type": "code",
   "execution_count": null,
   "id": "83184b9d",
   "metadata": {},
   "outputs": [
    {
     "name": "stdout",
     "output_type": "stream",
     "text": [
      "4\n",
      "12.56\n"
     ]
    }
   ],
   "source": [
    "class Circle:\n",
    "    def __init__(self, radius):\n",
    "        self.radius = radius  \n",
    "   \n",
    "    def radius(self):\n",
    "        return self._radius\n",
    "\n",
    "    def radius(self, value):\n",
    "        self._radius = value\n",
    "\n",
    "    \n",
    "    def diameter(self):\n",
    "        return 2 * self._radius\n",
    "\n",
    "    def area(self):\n",
    "        return 3.14 * self._radius ** 2\n",
    "\n",
    "c = Circle(2)\n",
    "print(c.diameter)  \n",
    "print(c.area)      "
   ]
  }
 ],
 "metadata": {
  "kernelspec": {
   "display_name": "Python 3",
   "language": "python",
   "name": "python3"
  },
  "language_info": {
   "codemirror_mode": {
    "name": "ipython",
    "version": 3
   },
   "file_extension": ".py",
   "mimetype": "text/x-python",
   "name": "python",
   "nbconvert_exporter": "python",
   "pygments_lexer": "ipython3",
   "version": "3.11.5"
  }
 },
 "nbformat": 4,
 "nbformat_minor": 5
}

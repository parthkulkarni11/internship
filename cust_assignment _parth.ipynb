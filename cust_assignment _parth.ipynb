{
 "cells": [
  {
   "cell_type": "code",
   "execution_count": null,
   "id": "63622fab",
   "metadata": {},
   "outputs": [],
   "source": [
    "!pip install pandas"
   ]
  },
  {
   "cell_type": "code",
   "execution_count": null,
   "id": "8e0691df",
   "metadata": {},
   "outputs": [],
   "source": [
    "import pandas as pd"
   ]
  },
  {
   "cell_type": "code",
   "execution_count": null,
   "id": "acae5a4e",
   "metadata": {},
   "outputs": [],
   "source": [
    "df=pd.read_csv('cust_satisfaction.csv')\n",
    "df"
   ]
  },
  {
   "cell_type": "code",
   "execution_count": null,
   "id": "cae7fdc5",
   "metadata": {},
   "outputs": [],
   "source": [
    "df.head()##head gives 5 elements of top\n",
    "df.head(10)\n",
    "df.tail()#bottom"
   ]
  },
  {
   "cell_type": "code",
   "execution_count": null,
   "id": "e1fe025d",
   "metadata": {},
   "outputs": [],
   "source": [
    "df.info()"
   ]
  },
  {
   "cell_type": "code",
   "execution_count": null,
   "id": "923f5324",
   "metadata": {},
   "outputs": [],
   "source": [
    "df.columns"
   ]
  },
  {
   "cell_type": "code",
   "execution_count": null,
   "id": "2b1bab37",
   "metadata": {},
   "outputs": [],
   "source": [
    "df.isnull().sum()"
   ]
  },
  {
   "cell_type": "code",
   "execution_count": null,
   "id": "280855ff",
   "metadata": {},
   "outputs": [],
   "source": [
    "df.describe()"
   ]
  },
  {
   "cell_type": "code",
   "execution_count": null,
   "id": "05d55631",
   "metadata": {},
   "outputs": [],
   "source": [
    "df.duplicated().sum()"
   ]
  },
  {
   "cell_type": "code",
   "execution_count": null,
   "id": "61abb2e6",
   "metadata": {},
   "outputs": [],
   "source": [
    "df.drop_duplicates(inplace=True)"
   ]
  },
  {
   "cell_type": "code",
   "execution_count": null,
   "id": "92b97fab",
   "metadata": {},
   "outputs": [],
   "source": [
    "df.duplicated().sum()"
   ]
  },
  {
   "cell_type": "code",
   "execution_count": null,
   "id": "45a96ea9",
   "metadata": {},
   "outputs": [],
   "source": [
    "df"
   ]
  },
  {
   "cell_type": "code",
   "execution_count": null,
   "id": "a58a4de9",
   "metadata": {},
   "outputs": [],
   "source": [
    "df['Type of Travel'].unique()"
   ]
  },
  {
   "cell_type": "code",
   "execution_count": null,
   "id": "f86e8324",
   "metadata": {},
   "outputs": [],
   "source": [
    "df['Customer Type'].unique()"
   ]
  },
  {
   "cell_type": "code",
   "execution_count": null,
   "id": "d86a3f72",
   "metadata": {},
   "outputs": [],
   "source": [
    "df['Customer Type'].nunique()"
   ]
  },
  {
   "cell_type": "code",
   "execution_count": null,
   "id": "8101a8c7",
   "metadata": {},
   "outputs": [],
   "source": [
    "df['Class'].nunique()"
   ]
  },
  {
   "cell_type": "code",
   "execution_count": null,
   "id": "ec7b8c69",
   "metadata": {},
   "outputs": [],
   "source": [
    "df['Class'].unique()"
   ]
  },
  {
   "cell_type": "code",
   "execution_count": null,
   "id": "aa54efb5",
   "metadata": {},
   "outputs": [],
   "source": [
    "df['Type of Travel'].value_counts()"
   ]
  },
  {
   "cell_type": "code",
   "execution_count": null,
   "id": "46361550",
   "metadata": {},
   "outputs": [],
   "source": [
    "df['Customer Type'].value_counts()"
   ]
  },
  {
   "cell_type": "code",
   "execution_count": null,
   "id": "1c8a2cea",
   "metadata": {},
   "outputs": [],
   "source": [
    "df['Class'].value_counts()"
   ]
  },
  {
   "cell_type": "code",
   "execution_count": null,
   "id": "6c4aae4e",
   "metadata": {},
   "outputs": [],
   "source": [
    "cat=df.select_dtypes(include='object')\n",
    "cat"
   ]
  },
  {
   "cell_type": "code",
   "execution_count": null,
   "id": "a2df45ee",
   "metadata": {},
   "outputs": [],
   "source": [
    "num =df.select_dtypes(exclude='object')\n",
    "num"
   ]
  },
  {
   "cell_type": "code",
   "execution_count": null,
   "id": "865cff6d",
   "metadata": {},
   "outputs": [],
   "source": [
    "L=df[df['Customer Type']=='Loyal Customer']\n",
    "L"
   ]
  },
  {
   "cell_type": "code",
   "execution_count": null,
   "id": "4af6e31a",
   "metadata": {},
   "outputs": [],
   "source": [
    "Ro=df[df['Class']=='Eco']\n",
    "R=Ro[Ro['Flight Distance']>1000]\n",
    "Rk=R[R['Type of Travel']=='Business Travel']\n",
    "Rk[Rk['Customer Type']=='Loyal Customer']"
   ]
  },
  {
   "cell_type": "code",
   "execution_count": null,
   "id": "60771106",
   "metadata": {},
   "outputs": [],
   "source": [
    "Cus=df[(df['Customer Type']=='Loyal Customer')&\n",
    "(df['Gender']=='Male')&\n",
    "(df['Class']=='Eco')&\n",
    "(df['Flight Distance']==1000)]\n",
    "Cus"
   ]
  },
  {
   "cell_type": "code",
   "execution_count": null,
   "id": "e9fc034a",
   "metadata": {},
   "outputs": [],
   "source": [
    "#x=df.query(\"Class== 'Eco' and Flight Distance < 1000 and Customer Type == 'Loyal Customer' and Gender == Female\")"
   ]
  },
  {
   "cell_type": "code",
   "execution_count": null,
   "id": "54c9bd67",
   "metadata": {},
   "outputs": [],
   "source": [
    "df['Customer Type'].unique()"
   ]
  },
  {
   "cell_type": "code",
   "execution_count": null,
   "id": "29a9058e",
   "metadata": {},
   "outputs": [],
   "source": [
    "dct={'Loyal Customer':1, 'disloyal Customer':2}"
   ]
  },
  {
   "cell_type": "code",
   "execution_count": null,
   "id": "f8a50007",
   "metadata": {},
   "outputs": [],
   "source": [
    "df['Customer Type']=df['Customer Type'].map(dct)\n",
    "df"
   ]
  },
  {
   "cell_type": "code",
   "execution_count": null,
   "id": "a1c1dd98",
   "metadata": {},
   "outputs": [],
   "source": []
  }
 ],
 "metadata": {
  "kernelspec": {
   "display_name": "Python 3",
   "language": "python",
   "name": "python3"
  },
  "language_info": {
   "codemirror_mode": {
    "name": "ipython",
    "version": 3
   },
   "file_extension": ".py",
   "mimetype": "text/x-python",
   "name": "python",
   "nbconvert_exporter": "python",
   "pygments_lexer": "ipython3",
   "version": "3.13.3"
  }
 },
 "nbformat": 4,
 "nbformat_minor": 5
}
